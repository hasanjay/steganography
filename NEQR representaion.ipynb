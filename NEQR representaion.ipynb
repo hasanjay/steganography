{
  "nbformat": 4,
  "nbformat_minor": 0,
  "metadata": {
    "colab": {
      "name": "Untitled71.ipynb",
      "provenance": [],
      "collapsed_sections": [],
      "authorship_tag": "ABX9TyPFD31uVYFXsUnJ3dvEUZK1",
      "include_colab_link": true
    },
    "kernelspec": {
      "name": "python3",
      "display_name": "Python 3"
    },
    "language_info": {
      "name": "python"
    }
  },
  "cells": [
    {
      "cell_type": "markdown",
      "metadata": {
        "id": "view-in-github",
        "colab_type": "text"
      },
      "source": [
        "<a href=\"https://colab.research.google.com/github/hasanjay/steganography/blob/main/NEQR%20representaion.ipynb\" target=\"_parent\"><img src=\"https://colab.research.google.com/assets/colab-badge.svg\" alt=\"Open In Colab\"/></a>"
      ]
    },
    {
      "cell_type": "code",
      "execution_count": null,
      "metadata": {
        "colab": {
          "base_uri": "https://localhost:8080/"
        },
        "id": "cq3W_rS6cDHk",
        "outputId": "dfbcf24a-c75b-4c1f-c583-4578a0f937e9"
      },
      "outputs": [
        {
          "output_type": "stream",
          "name": "stdout",
          "text": [
            "/bin/bash: -c: line 0: syntax error near unexpected token `('\n",
            "/bin/bash: -c: line 0: `apt-get -qq install -y QuantumRegister(,'')'\n"
          ]
        }
      ],
      "source": [
        "!apt-get -qq install -y QuantumRegister(,'')"
      ]
    },
    {
      "cell_type": "code",
      "source": [
        "!pip install qiskit"
      ],
      "metadata": {
        "colab": {
          "base_uri": "https://localhost:8080/"
        },
        "id": "sK_dIhyveJTq",
        "outputId": "8426973a-9efb-4669-b2cf-25f62f46a2bb"
      },
      "execution_count": null,
      "outputs": [
        {
          "output_type": "stream",
          "name": "stdout",
          "text": [
            "Collecting qiskit\n",
            "  Downloading qiskit-0.36.0.tar.gz (13 kB)\n",
            "Collecting qiskit-terra==0.20.0\n",
            "  Downloading qiskit_terra-0.20.0-cp37-cp37m-manylinux_2_17_x86_64.manylinux2014_x86_64.whl (6.5 MB)\n",
            "\u001b[K     |████████████████████████████████| 6.5 MB 4.6 MB/s \n",
            "\u001b[?25hCollecting qiskit-aer==0.10.4\n",
            "  Downloading qiskit_aer-0.10.4-cp37-cp37m-manylinux_2_12_x86_64.manylinux2010_x86_64.whl (18.0 MB)\n",
            "\u001b[K     |████████████████████████████████| 18.0 MB 287 kB/s \n",
            "\u001b[?25hCollecting qiskit-ibmq-provider==0.19.0\n",
            "  Downloading qiskit_ibmq_provider-0.19.0-py3-none-any.whl (240 kB)\n",
            "\u001b[K     |████████████████████████████████| 240 kB 50.2 MB/s \n",
            "\u001b[?25hCollecting qiskit-ignis==0.7.0\n",
            "  Downloading qiskit_ignis-0.7.0-py3-none-any.whl (200 kB)\n",
            "\u001b[K     |████████████████████████████████| 200 kB 50.3 MB/s \n",
            "\u001b[?25hRequirement already satisfied: numpy>=1.16.3 in /usr/local/lib/python3.7/dist-packages (from qiskit-aer==0.10.4->qiskit) (1.21.5)\n",
            "Requirement already satisfied: scipy>=1.0 in /usr/local/lib/python3.7/dist-packages (from qiskit-aer==0.10.4->qiskit) (1.4.1)\n",
            "Collecting websockets>=10.0\n",
            "  Downloading websockets-10.2-cp37-cp37m-manylinux_2_5_x86_64.manylinux1_x86_64.manylinux_2_12_x86_64.manylinux2010_x86_64.whl (111 kB)\n",
            "\u001b[K     |████████████████████████████████| 111 kB 50.2 MB/s \n",
            "\u001b[?25hRequirement already satisfied: requests>=2.19 in /usr/local/lib/python3.7/dist-packages (from qiskit-ibmq-provider==0.19.0->qiskit) (2.23.0)\n",
            "Requirement already satisfied: urllib3>=1.21.1 in /usr/local/lib/python3.7/dist-packages (from qiskit-ibmq-provider==0.19.0->qiskit) (1.24.3)\n",
            "Requirement already satisfied: python-dateutil>=2.8.0 in /usr/local/lib/python3.7/dist-packages (from qiskit-ibmq-provider==0.19.0->qiskit) (2.8.2)\n",
            "Collecting requests-ntlm>=1.1.0\n",
            "  Downloading requests_ntlm-1.1.0-py2.py3-none-any.whl (5.7 kB)\n",
            "Collecting websocket-client>=1.0.1\n",
            "  Downloading websocket_client-1.3.2-py3-none-any.whl (54 kB)\n",
            "\u001b[K     |████████████████████████████████| 54 kB 2.1 MB/s \n",
            "\u001b[?25hRequirement already satisfied: setuptools>=40.1.0 in /usr/local/lib/python3.7/dist-packages (from qiskit-ignis==0.7.0->qiskit) (57.4.0)\n",
            "Collecting retworkx>=0.8.0\n",
            "  Downloading retworkx-0.11.0-cp37-cp37m-manylinux_2_5_x86_64.manylinux1_x86_64.manylinux_2_12_x86_64.manylinux2010_x86_64.whl (1.6 MB)\n",
            "\u001b[K     |████████████████████████████████| 1.6 MB 34.0 MB/s \n",
            "\u001b[?25hRequirement already satisfied: dill>=0.3 in /usr/local/lib/python3.7/dist-packages (from qiskit-terra==0.20.0->qiskit) (0.3.4)\n",
            "Requirement already satisfied: sympy>=1.3 in /usr/local/lib/python3.7/dist-packages (from qiskit-terra==0.20.0->qiskit) (1.7.1)\n",
            "Collecting tweedledum<2.0,>=1.1\n",
            "  Downloading tweedledum-1.1.1-cp37-cp37m-manylinux_2_12_x86_64.manylinux2010_x86_64.whl (943 kB)\n",
            "\u001b[K     |████████████████████████████████| 943 kB 31.2 MB/s \n",
            "\u001b[?25hCollecting stevedore>=3.0.0\n",
            "  Downloading stevedore-3.5.0-py3-none-any.whl (49 kB)\n",
            "\u001b[K     |████████████████████████████████| 49 kB 5.1 MB/s \n",
            "\u001b[?25hCollecting ply>=3.10\n",
            "  Downloading ply-3.11-py2.py3-none-any.whl (49 kB)\n",
            "\u001b[K     |████████████████████████████████| 49 kB 5.1 MB/s \n",
            "\u001b[?25hRequirement already satisfied: psutil>=5 in /usr/local/lib/python3.7/dist-packages (from qiskit-terra==0.20.0->qiskit) (5.4.8)\n",
            "Collecting symengine>=0.9\n",
            "  Downloading symengine-0.9.2-cp37-cp37m-manylinux2010_x86_64.whl (37.5 MB)\n",
            "\u001b[K     |████████████████████████████████| 37.5 MB 1.2 MB/s \n",
            "\u001b[?25hCollecting python-constraint>=1.4\n",
            "  Downloading python-constraint-1.4.0.tar.bz2 (18 kB)\n",
            "Collecting scipy>=1.0\n",
            "  Downloading scipy-1.7.3-cp37-cp37m-manylinux_2_12_x86_64.manylinux2010_x86_64.whl (38.1 MB)\n",
            "\u001b[K     |████████████████████████████████| 38.1 MB 1.4 MB/s \n",
            "\u001b[?25hRequirement already satisfied: six>=1.5 in /usr/local/lib/python3.7/dist-packages (from python-dateutil>=2.8.0->qiskit-ibmq-provider==0.19.0->qiskit) (1.15.0)\n",
            "Requirement already satisfied: chardet<4,>=3.0.2 in /usr/local/lib/python3.7/dist-packages (from requests>=2.19->qiskit-ibmq-provider==0.19.0->qiskit) (3.0.4)\n",
            "Requirement already satisfied: certifi>=2017.4.17 in /usr/local/lib/python3.7/dist-packages (from requests>=2.19->qiskit-ibmq-provider==0.19.0->qiskit) (2021.10.8)\n",
            "Requirement already satisfied: idna<3,>=2.5 in /usr/local/lib/python3.7/dist-packages (from requests>=2.19->qiskit-ibmq-provider==0.19.0->qiskit) (2.10)\n",
            "Collecting ntlm-auth>=1.0.2\n",
            "  Downloading ntlm_auth-1.5.0-py2.py3-none-any.whl (29 kB)\n",
            "Collecting cryptography>=1.3\n",
            "  Downloading cryptography-36.0.2-cp36-abi3-manylinux_2_24_x86_64.whl (3.6 MB)\n",
            "\u001b[K     |████████████████████████████████| 3.6 MB 29.9 MB/s \n",
            "\u001b[?25hRequirement already satisfied: cffi>=1.12 in /usr/local/lib/python3.7/dist-packages (from cryptography>=1.3->requests-ntlm>=1.1.0->qiskit-ibmq-provider==0.19.0->qiskit) (1.15.0)\n",
            "Requirement already satisfied: pycparser in /usr/local/lib/python3.7/dist-packages (from cffi>=1.12->cryptography>=1.3->requests-ntlm>=1.1.0->qiskit-ibmq-provider==0.19.0->qiskit) (2.21)\n",
            "Collecting pbr!=2.1.0,>=2.0.0\n",
            "  Downloading pbr-5.8.1-py2.py3-none-any.whl (113 kB)\n",
            "\u001b[K     |████████████████████████████████| 113 kB 44.4 MB/s \n",
            "\u001b[?25hRequirement already satisfied: importlib-metadata>=1.7.0 in /usr/local/lib/python3.7/dist-packages (from stevedore>=3.0.0->qiskit-terra==0.20.0->qiskit) (4.11.3)\n",
            "Requirement already satisfied: typing-extensions>=3.6.4 in /usr/local/lib/python3.7/dist-packages (from importlib-metadata>=1.7.0->stevedore>=3.0.0->qiskit-terra==0.20.0->qiskit) (3.10.0.2)\n",
            "Requirement already satisfied: zipp>=0.5 in /usr/local/lib/python3.7/dist-packages (from importlib-metadata>=1.7.0->stevedore>=3.0.0->qiskit-terra==0.20.0->qiskit) (3.7.0)\n",
            "Requirement already satisfied: mpmath>=0.19 in /usr/local/lib/python3.7/dist-packages (from sympy>=1.3->qiskit-terra==0.20.0->qiskit) (1.2.1)\n",
            "Building wheels for collected packages: qiskit, python-constraint\n",
            "  Building wheel for qiskit (setup.py) ... \u001b[?25l\u001b[?25hdone\n",
            "  Created wheel for qiskit: filename=qiskit-0.36.0-py3-none-any.whl size=11861 sha256=92aab40b410292c75140135157795dc09b2d511340cf07c1a2a08f851283c98a\n",
            "  Stored in directory: /root/.cache/pip/wheels/c3/25/bc/bb06f0f4587fa7253f761a778580d546f13e031b90fc929bb3\n",
            "  Building wheel for python-constraint (setup.py) ... \u001b[?25l\u001b[?25hdone\n",
            "  Created wheel for python-constraint: filename=python_constraint-1.4.0-py2.py3-none-any.whl size=24081 sha256=eff88cc9eb36ab51f61579914595e97e87406d7b4e5bc1a29778b0d4d774de5a\n",
            "  Stored in directory: /root/.cache/pip/wheels/07/27/db/1222c80eb1e431f3d2199c12569cb1cac60f562a451fe30479\n",
            "Successfully built qiskit python-constraint\n",
            "Installing collected packages: pbr, tweedledum, symengine, stevedore, scipy, retworkx, python-constraint, ply, ntlm-auth, cryptography, websockets, websocket-client, requests-ntlm, qiskit-terra, qiskit-ignis, qiskit-ibmq-provider, qiskit-aer, qiskit\n",
            "  Attempting uninstall: scipy\n",
            "    Found existing installation: scipy 1.4.1\n",
            "    Uninstalling scipy-1.4.1:\n",
            "      Successfully uninstalled scipy-1.4.1\n",
            "\u001b[31mERROR: pip's dependency resolver does not currently take into account all the packages that are installed. This behaviour is the source of the following dependency conflicts.\n",
            "albumentations 0.1.12 requires imgaug<0.2.7,>=0.2.5, but you have imgaug 0.2.9 which is incompatible.\u001b[0m\n",
            "Successfully installed cryptography-36.0.2 ntlm-auth-1.5.0 pbr-5.8.1 ply-3.11 python-constraint-1.4.0 qiskit-0.36.0 qiskit-aer-0.10.4 qiskit-ibmq-provider-0.19.0 qiskit-ignis-0.7.0 qiskit-terra-0.20.0 requests-ntlm-1.1.0 retworkx-0.11.0 scipy-1.7.3 stevedore-3.5.0 symengine-0.9.2 tweedledum-1.1.1 websocket-client-1.3.2 websockets-10.2\n"
          ]
        }
      ]
    },
    {
      "cell_type": "code",
      "source": [
        "import numpy as np\n",
        "from qiskit import QuantumRegister, ClassicalRegister\n",
        "\n",
        "# Initialize the quantum circuit for the image \n",
        "# Pixel position\n",
        "idx = QuantumRegister(2, 'idx')\n",
        "# grayscale pixel intensity value\n",
        "intensity = QuantumRegister(8,'intensity')\n",
        "# classical register\n",
        "cr = ClassicalRegister(10, 'cr')\n",
        "\n",
        "# create the quantum circuit for the image\n",
        "qc_image = QuantumCircuit(intensity, idx, cr)\n",
        "\n",
        "# set the total number of qubits\n",
        "num_qubits = qc_image.num_qubits\n",
        "\n",
        "qc_image.draw()\n",
        "# Initialize the quantum circuit\n",
        "\n",
        "# Optional: Add Identity gates to the intensity values\n",
        "for idx in range(intensity.size):\n",
        "    qc_image.i(idx)\n",
        "\n",
        "# Add Hadamard gates to the pixel positions    \n",
        "qc_image.h(8)\n",
        "qc_image.h(9)\n",
        "\n",
        "# Separate with barrier so it is easy to read later.\n",
        "qc_image.barrier()\n",
        "qc_image.draw()\n",
        "# Encode the first pixel, since its value is 0, we will apply ID gates here:\n",
        "for idx in range(num_qubits):\n",
        "    qc_image.i(idx)\n",
        "\n",
        "qc_image.barrier()\n",
        "qc_image.draw()\n",
        "# Encode the second pixel whose value is (01100100):\n",
        "value01 = '01100100'\n",
        "\n",
        "# Add the NOT gate to set the position at 01:\n",
        "qc_image.x(qc_image.num_qubits-1)\n",
        "\n",
        "# We'll reverse order the value so it is in the same order when measured.\n",
        "for idx, px_value in enumerate(value01[::-1]):\n",
        "    if(px_value=='1'):\n",
        "        qc_image.ccx(num_qubits-1, num_qubits-2, idx)\n",
        "\n",
        "# Reset the NOT gate\n",
        "qc_image.x(num_qubits-1)\n",
        "\n",
        "qc_image.barrier()\n",
        "qc_image.draw()\n",
        "# Encode the third pixel whose value is (11001000):\n",
        "value10 = '11001000'\n",
        "\n",
        "# Add the 0CNOT gates, where 0 is on X pixel:\n",
        "qc_image.x(num_qubits-2)\n",
        "for idx, px_value in enumerate(value10[::-1]):\n",
        "    if(px_value=='1'):\n",
        "        qc_image.ccx(num_qubits-1, num_qubits-2, idx)\n",
        "qc_image.x(num_qubits-2)\n",
        "\n",
        "\n",
        "qc_image.barrier()\n",
        "qc_image.draw()\n",
        "# Encode the third pixel whose value is (10101010):\n",
        "value11 = '11111111'\n",
        "\n",
        "# Add the CCNOT gates:\n",
        "for idx, px_value in enumerate(value11):\n",
        "    if(px_value=='1'):\n",
        "        qc_image.ccx(num_qubits-1,num_qubits-2, idx)\n",
        "\n",
        "qc_image.barrier()\n",
        "qc_image.measure(range(10),range(10))\n",
        "qc_image.draw()"
      ],
      "metadata": {
        "colab": {
          "base_uri": "https://localhost:8080/",
          "height": 1000
        },
        "id": "9L_H9FyxdxtC",
        "outputId": "7c3024f6-3020-4196-bad5-acbc2c7bbec9"
      },
      "execution_count": null,
      "outputs": [
        {
          "output_type": "execute_result",
          "data": {
            "text/plain": [
              "             ┌───┐ ░ ┌───┐ ░                           ░                     »\n",
              "intensity_0: ┤ I ├─░─┤ I ├─░───────────────────────────░─────────────────────»\n",
              "             ├───┤ ░ ├───┤ ░                           ░                     »\n",
              "intensity_1: ┤ I ├─░─┤ I ├─░───────────────────────────░─────────────────────»\n",
              "             ├───┤ ░ ├───┤ ░      ┌───┐                ░                     »\n",
              "intensity_2: ┤ I ├─░─┤ I ├─░──────┤ X ├────────────────░─────────────────────»\n",
              "             ├───┤ ░ ├───┤ ░      └─┬─┘                ░      ┌───┐          »\n",
              "intensity_3: ┤ I ├─░─┤ I ├─░────────┼──────────────────░──────┤ X ├──────────»\n",
              "             ├───┤ ░ ├───┤ ░        │                  ░      └─┬─┘          »\n",
              "intensity_4: ┤ I ├─░─┤ I ├─░────────┼──────────────────░────────┼────────────»\n",
              "             ├───┤ ░ ├───┤ ░        │  ┌───┐           ░        │            »\n",
              "intensity_5: ┤ I ├─░─┤ I ├─░────────┼──┤ X ├───────────░────────┼────────────»\n",
              "             ├───┤ ░ ├───┤ ░        │  └─┬─┘┌───┐      ░        │  ┌───┐     »\n",
              "intensity_6: ┤ I ├─░─┤ I ├─░────────┼────┼──┤ X ├──────░────────┼──┤ X ├─────»\n",
              "             ├───┤ ░ ├───┤ ░        │    │  └─┬─┘      ░        │  └─┬─┘┌───┐»\n",
              "intensity_7: ┤ I ├─░─┤ I ├─░────────┼────┼────┼────────░────────┼────┼──┤ X ├»\n",
              "             ├───┤ ░ ├───┤ ░        │    │    │        ░ ┌───┐  │    │  └─┬─┘»\n",
              "      idx_0: ┤ H ├─░─┤ I ├─░────────■────■────■────────░─┤ X ├──■────■────■──»\n",
              "             ├───┤ ░ ├───┤ ░ ┌───┐  │    │    │  ┌───┐ ░ └───┘  │    │    │  »\n",
              "      idx_1: ┤ H ├─░─┤ I ├─░─┤ X ├──■────■────■──┤ X ├─░────────■────■────■──»\n",
              "             └───┘ ░ └───┘ ░ └───┘               └───┘ ░                     »\n",
              "      cr: 10/════════════════════════════════════════════════════════════════»\n",
              "                                                                             »\n",
              "«                   ░ ┌───┐                                    ░ ┌─┐         »\n",
              "«intensity_0: ──────░─┤ X ├────────────────────────────────────░─┤M├─────────»\n",
              "«                   ░ └─┬─┘┌───┐                               ░ └╥┘┌─┐      »\n",
              "«intensity_1: ──────░───┼──┤ X ├───────────────────────────────░──╫─┤M├──────»\n",
              "«                   ░   │  └─┬─┘┌───┐                          ░  ║ └╥┘┌─┐   »\n",
              "«intensity_2: ──────░───┼────┼──┤ X ├──────────────────────────░──╫──╫─┤M├───»\n",
              "«                   ░   │    │  └─┬─┘┌───┐                     ░  ║  ║ └╥┘┌─┐»\n",
              "«intensity_3: ──────░───┼────┼────┼──┤ X ├─────────────────────░──╫──╫──╫─┤M├»\n",
              "«                   ░   │    │    │  └─┬─┘┌───┐                ░  ║  ║  ║ └╥┘»\n",
              "«intensity_4: ──────░───┼────┼────┼────┼──┤ X ├────────────────░──╫──╫──╫──╫─»\n",
              "«                   ░   │    │    │    │  └─┬─┘┌───┐           ░  ║  ║  ║  ║ »\n",
              "«intensity_5: ──────░───┼────┼────┼────┼────┼──┤ X ├───────────░──╫──╫──╫──╫─»\n",
              "«                   ░   │    │    │    │    │  └─┬─┘┌───┐      ░  ║  ║  ║  ║ »\n",
              "«intensity_6: ──────░───┼────┼────┼────┼────┼────┼──┤ X ├──────░──╫──╫──╫──╫─»\n",
              "«                   ░   │    │    │    │    │    │  └─┬─┘┌───┐ ░  ║  ║  ║  ║ »\n",
              "«intensity_7: ──────░───┼────┼────┼────┼────┼────┼────┼──┤ X ├─░──╫──╫──╫──╫─»\n",
              "«             ┌───┐ ░   │    │    │    │    │    │    │  └─┬─┘ ░  ║  ║  ║  ║ »\n",
              "«      idx_0: ┤ X ├─░───■────■────■────■────■────■────■────■───░──╫──╫──╫──╫─»\n",
              "«             └───┘ ░   │    │    │    │    │    │    │    │   ░  ║  ║  ║  ║ »\n",
              "«      idx_1: ──────░───■────■────■────■────■────■────■────■───░──╫──╫──╫──╫─»\n",
              "«                   ░                                          ░  ║  ║  ║  ║ »\n",
              "«      cr: 10/════════════════════════════════════════════════════╩══╩══╩══╩═»\n",
              "«                                                                 0  1  2  3 »\n",
              "«                               \n",
              "«intensity_0: ──────────────────\n",
              "«                               \n",
              "«intensity_1: ──────────────────\n",
              "«                               \n",
              "«intensity_2: ──────────────────\n",
              "«                               \n",
              "«intensity_3: ──────────────────\n",
              "«             ┌─┐               \n",
              "«intensity_4: ┤M├───────────────\n",
              "«             └╥┘┌─┐            \n",
              "«intensity_5: ─╫─┤M├────────────\n",
              "«              ║ └╥┘┌─┐         \n",
              "«intensity_6: ─╫──╫─┤M├─────────\n",
              "«              ║  ║ └╥┘┌─┐      \n",
              "«intensity_7: ─╫──╫──╫─┤M├──────\n",
              "«              ║  ║  ║ └╥┘┌─┐   \n",
              "«      idx_0: ─╫──╫──╫──╫─┤M├───\n",
              "«              ║  ║  ║  ║ └╥┘┌─┐\n",
              "«      idx_1: ─╫──╫──╫──╫──╫─┤M├\n",
              "«              ║  ║  ║  ║  ║ └╥┘\n",
              "«      cr: 10/═╩══╩══╩══╩══╩══╩═\n",
              "«              4  5  6  7  8  9 "
            ],
            "text/html": [
              "<pre style=\"word-wrap: normal;white-space: pre;background: #fff0;line-height: 1.1;font-family: &quot;Courier New&quot;,Courier,monospace\">             ┌───┐ ░ ┌───┐ ░                           ░                     »\n",
              "intensity_0: ┤ I ├─░─┤ I ├─░───────────────────────────░─────────────────────»\n",
              "             ├───┤ ░ ├───┤ ░                           ░                     »\n",
              "intensity_1: ┤ I ├─░─┤ I ├─░───────────────────────────░─────────────────────»\n",
              "             ├───┤ ░ ├───┤ ░      ┌───┐                ░                     »\n",
              "intensity_2: ┤ I ├─░─┤ I ├─░──────┤ X ├────────────────░─────────────────────»\n",
              "             ├───┤ ░ ├───┤ ░      └─┬─┘                ░      ┌───┐          »\n",
              "intensity_3: ┤ I ├─░─┤ I ├─░────────┼──────────────────░──────┤ X ├──────────»\n",
              "             ├───┤ ░ ├───┤ ░        │                  ░      └─┬─┘          »\n",
              "intensity_4: ┤ I ├─░─┤ I ├─░────────┼──────────────────░────────┼────────────»\n",
              "             ├───┤ ░ ├───┤ ░        │  ┌───┐           ░        │            »\n",
              "intensity_5: ┤ I ├─░─┤ I ├─░────────┼──┤ X ├───────────░────────┼────────────»\n",
              "             ├───┤ ░ ├───┤ ░        │  └─┬─┘┌───┐      ░        │  ┌───┐     »\n",
              "intensity_6: ┤ I ├─░─┤ I ├─░────────┼────┼──┤ X ├──────░────────┼──┤ X ├─────»\n",
              "             ├───┤ ░ ├───┤ ░        │    │  └─┬─┘      ░        │  └─┬─┘┌───┐»\n",
              "intensity_7: ┤ I ├─░─┤ I ├─░────────┼────┼────┼────────░────────┼────┼──┤ X ├»\n",
              "             ├───┤ ░ ├───┤ ░        │    │    │        ░ ┌───┐  │    │  └─┬─┘»\n",
              "      idx_0: ┤ H ├─░─┤ I ├─░────────■────■────■────────░─┤ X ├──■────■────■──»\n",
              "             ├───┤ ░ ├───┤ ░ ┌───┐  │    │    │  ┌───┐ ░ └───┘  │    │    │  »\n",
              "      idx_1: ┤ H ├─░─┤ I ├─░─┤ X ├──■────■────■──┤ X ├─░────────■────■────■──»\n",
              "             └───┘ ░ └───┘ ░ └───┘               └───┘ ░                     »\n",
              "      cr: 10/════════════════════════════════════════════════════════════════»\n",
              "                                                                             »\n",
              "«                   ░ ┌───┐                                    ░ ┌─┐         »\n",
              "«intensity_0: ──────░─┤ X ├────────────────────────────────────░─┤M├─────────»\n",
              "«                   ░ └─┬─┘┌───┐                               ░ └╥┘┌─┐      »\n",
              "«intensity_1: ──────░───┼──┤ X ├───────────────────────────────░──╫─┤M├──────»\n",
              "«                   ░   │  └─┬─┘┌───┐                          ░  ║ └╥┘┌─┐   »\n",
              "«intensity_2: ──────░───┼────┼──┤ X ├──────────────────────────░──╫──╫─┤M├───»\n",
              "«                   ░   │    │  └─┬─┘┌───┐                     ░  ║  ║ └╥┘┌─┐»\n",
              "«intensity_3: ──────░───┼────┼────┼──┤ X ├─────────────────────░──╫──╫──╫─┤M├»\n",
              "«                   ░   │    │    │  └─┬─┘┌───┐                ░  ║  ║  ║ └╥┘»\n",
              "«intensity_4: ──────░───┼────┼────┼────┼──┤ X ├────────────────░──╫──╫──╫──╫─»\n",
              "«                   ░   │    │    │    │  └─┬─┘┌───┐           ░  ║  ║  ║  ║ »\n",
              "«intensity_5: ──────░───┼────┼────┼────┼────┼──┤ X ├───────────░──╫──╫──╫──╫─»\n",
              "«                   ░   │    │    │    │    │  └─┬─┘┌───┐      ░  ║  ║  ║  ║ »\n",
              "«intensity_6: ──────░───┼────┼────┼────┼────┼────┼──┤ X ├──────░──╫──╫──╫──╫─»\n",
              "«                   ░   │    │    │    │    │    │  └─┬─┘┌───┐ ░  ║  ║  ║  ║ »\n",
              "«intensity_7: ──────░───┼────┼────┼────┼────┼────┼────┼──┤ X ├─░──╫──╫──╫──╫─»\n",
              "«             ┌───┐ ░   │    │    │    │    │    │    │  └─┬─┘ ░  ║  ║  ║  ║ »\n",
              "«      idx_0: ┤ X ├─░───■────■────■────■────■────■────■────■───░──╫──╫──╫──╫─»\n",
              "«             └───┘ ░   │    │    │    │    │    │    │    │   ░  ║  ║  ║  ║ »\n",
              "«      idx_1: ──────░───■────■────■────■────■────■────■────■───░──╫──╫──╫──╫─»\n",
              "«                   ░                                          ░  ║  ║  ║  ║ »\n",
              "«      cr: 10/════════════════════════════════════════════════════╩══╩══╩══╩═»\n",
              "«                                                                 0  1  2  3 »\n",
              "«                               \n",
              "«intensity_0: ──────────────────\n",
              "«                               \n",
              "«intensity_1: ──────────────────\n",
              "«                               \n",
              "«intensity_2: ──────────────────\n",
              "«                               \n",
              "«intensity_3: ──────────────────\n",
              "«             ┌─┐               \n",
              "«intensity_4: ┤M├───────────────\n",
              "«             └╥┘┌─┐            \n",
              "«intensity_5: ─╫─┤M├────────────\n",
              "«              ║ └╥┘┌─┐         \n",
              "«intensity_6: ─╫──╫─┤M├─────────\n",
              "«              ║  ║ └╥┘┌─┐      \n",
              "«intensity_7: ─╫──╫──╫─┤M├──────\n",
              "«              ║  ║  ║ └╥┘┌─┐   \n",
              "«      idx_0: ─╫──╫──╫──╫─┤M├───\n",
              "«              ║  ║  ║  ║ └╥┘┌─┐\n",
              "«      idx_1: ─╫──╫──╫──╫──╫─┤M├\n",
              "«              ║  ║  ║  ║  ║ └╥┘\n",
              "«      cr: 10/═╩══╩══╩══╩══╩══╩═\n",
              "«              4  5  6  7  8  9 </pre>"
            ]
          },
          "metadata": {},
          "execution_count": 21
        }
      ]
    },
    {
      "cell_type": "code",
      "source": [
        "from qiskit import QuantumCircuit\n",
        "\n"
      ],
      "metadata": {
        "id": "APt8K0Wakk5X"
      },
      "execution_count": null,
      "outputs": []
    },
    {
      "cell_type": "code",
      "source": [
        "!apt-get -qq install -y libarchive-dev && pip install -U libarchive\n"
      ],
      "metadata": {
        "colab": {
          "base_uri": "https://localhost:8080/"
        },
        "id": "_L8nDZAGjJ7Z",
        "outputId": "9f4500f3-ab7a-46a4-9753-c5072ffa18ee"
      },
      "execution_count": null,
      "outputs": [
        {
          "output_type": "stream",
          "name": "stdout",
          "text": [
            "Selecting previously unselected package libarchive-dev:amd64.\n",
            "(Reading database ... 155455 files and directories currently installed.)\n",
            "Preparing to unpack .../libarchive-dev_3.2.2-3.1ubuntu0.7_amd64.deb ...\n",
            "Unpacking libarchive-dev:amd64 (3.2.2-3.1ubuntu0.7) ...\n",
            "Setting up libarchive-dev:amd64 (3.2.2-3.1ubuntu0.7) ...\n",
            "Processing triggers for man-db (2.8.3-2ubuntu0.1) ...\n",
            "Collecting libarchive\n",
            "  Downloading libarchive-0.4.7.tar.gz (23 kB)\n",
            "Collecting nose\n",
            "  Downloading nose-1.3.7-py3-none-any.whl (154 kB)\n",
            "\u001b[K     |████████████████████████████████| 154 kB 7.6 MB/s \n",
            "\u001b[?25hBuilding wheels for collected packages: libarchive\n",
            "  Building wheel for libarchive (setup.py) ... \u001b[?25l\u001b[?25hdone\n",
            "  Created wheel for libarchive: filename=libarchive-0.4.7-py3-none-any.whl size=31646 sha256=c4a52c9dfed0fb98131ca690b0e07c61ca9119ad1ebf05212b11f3abbef16801\n",
            "  Stored in directory: /root/.cache/pip/wheels/63/b1/c6/b3da79bec2012175bd43603eed98ef8548ac1733b77c1d4330\n",
            "Successfully built libarchive\n",
            "Installing collected packages: nose, libarchive\n",
            "Successfully installed libarchive-0.4.7 nose-1.3.7\n"
          ]
        }
      ]
    },
    {
      "cell_type": "code",
      "source": [
        "!pip install QuantumCircuit_image()"
      ],
      "metadata": {
        "colab": {
          "base_uri": "https://localhost:8080/"
        },
        "id": "lontuh0UiZfy",
        "outputId": "0f46c0f7-2e0c-4fbf-e8ae-0407506895d3"
      },
      "execution_count": null,
      "outputs": [
        {
          "output_type": "stream",
          "name": "stdout",
          "text": [
            "/bin/bash: -c: line 0: syntax error near unexpected token `('\n",
            "/bin/bash: -c: line 0: `pip install QuantumCircuit_image()'\n"
          ]
        }
      ]
    },
    {
      "cell_type": "code",
      "source": [
        "!pip install numpy"
      ],
      "metadata": {
        "colab": {
          "base_uri": "https://localhost:8080/"
        },
        "id": "Z8pAw7axi3KO",
        "outputId": "4a2bb87f-3c29-4019-beaf-632985fa9894"
      },
      "execution_count": null,
      "outputs": [
        {
          "output_type": "stream",
          "name": "stdout",
          "text": [
            "Requirement already satisfied: numpy in /usr/local/lib/python3.7/dist-packages (1.21.5)\n"
          ]
        }
      ]
    }
  ]
}