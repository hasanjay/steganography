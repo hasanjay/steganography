{
  "nbformat": 4,
  "nbformat_minor": 0,
  "metadata": {
    "colab": {
      "name": "Untitled27.ipynb",
      "provenance": [],
      "authorship_tag": "ABX9TyNDGManvldu2QbOjtHgnzmF",
      "include_colab_link": true
    },
    "kernelspec": {
      "name": "python3",
      "display_name": "Python 3"
    },
    "language_info": {
      "name": "python"
    }
  },
  "cells": [
    {
      "cell_type": "markdown",
      "metadata": {
        "id": "view-in-github",
        "colab_type": "text"
      },
      "source": [
        "<a href=\"https://colab.research.google.com/github/hasanjay/steganography/blob/BRISK/BRISK%20code.ipynb\" target=\"_parent\"><img src=\"https://colab.research.google.com/assets/colab-badge.svg\" alt=\"Open In Colab\"/></a>"
      ]
    },
    {
      "cell_type": "code",
      "metadata": {
        "id": "MUlV00FfZ-Y6"
      },
      "source": [
        "import cv2\n",
        "import numpy as np\n",
        "\n",
        "def save_keypoints(image_path, type_image):\n",
        "    img = cv2.imread(image_path)\n",
        "    gray= cv2.cvtColor(img,cv2.COLOR_BGR2GRAY)\n",
        "    kp, descriptors =cv2.BRISK_create(10).detectAndCompute(gray,None)\n",
        "    mg=cv2.drawKeypoints(gray, kp, None, \n",
        "    flags=cv2.DRAW_MATCHES_FLAGS_DRAW_RICH_KEYPOINTS)\n",
        "    cv2.imwrite('brisk_keypoints-'+ type_image+'.png',mg)\n",
        "\n",
        "if __name__==\"__main__\":\n",
        "    save_keypoints(\"A.png\" ,\"A2\")\n",
        "    save_keypoints(\"B.png\" ,\"B2\")\n",
        "    save_keypoints(\"C.png\" ,\"C2\")\n",
        "    save_keypoints(\"D.png\" ,\"D2\")"
      ],
      "execution_count": 15,
      "outputs": []
    }
  ]
}